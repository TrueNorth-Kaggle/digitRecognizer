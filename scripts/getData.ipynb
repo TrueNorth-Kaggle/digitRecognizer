{
 "cells": [
  {
   "cell_type": "code",
   "execution_count": 16,
   "metadata": {
    "collapsed": false
   },
   "outputs": [],
   "source": [
    "import csv\n",
    "import sys\n",
    "\n",
    "# Change working path to read dataset\n",
    "import os\n",
    "os.chdir(\"../dataset/\")"
   ]
  },
  {
   "cell_type": "code",
   "execution_count": null,
   "metadata": {
    "collapsed": true
   },
   "outputs": [],
   "source": [
    "# Make label of 1, 2, 3, 4.... into a hot vector \n",
    "# whose ith index is the label and the rest are 0\n",
    "def make_hot(lables):\n",
    "    for i in range(len(lables)):\n",
    "        temp = [0.0] * 10\n",
    "        temp[int(lables[i])] = 1.0\n",
    "        lables[i] = temp\n",
    "    return lables"
   ]
  },
  {
   "cell_type": "code",
   "execution_count": null,
   "metadata": {
    "collapsed": true
   },
   "outputs": [],
   "source": [
    "def normalize(myList):\n",
    "    for i in range(len(myList)):\n",
    "        myList[i] = [k/255 for k in myList[i]] \n",
    "    return myList"
   ]
  },
  {
   "cell_type": "code",
   "execution_count": 10,
   "metadata": {
    "collapsed": false
   },
   "outputs": [],
   "source": [
    "def getTrain(train_num):\n",
    "    train_x = []\n",
    "    train_y = []\n",
    "    \n",
    "    f = open('train.csv', 'rt')\n",
    "    if_first = True \n",
    "    index = 0\n",
    "    try:\n",
    "        reader = csv.reader(f)\n",
    "        for row in reader:\n",
    "            if index > train_num:\n",
    "                break\n",
    "            \n",
    "            index = index + 1\n",
    "            # Get rid of the label row \n",
    "            if if_first == True:\n",
    "                if_first = False\n",
    "                continue\n",
    "            train_y.append(row[0])\n",
    "            train_x.append(map(float, row[1:len(row)]))\n",
    "    finally:\n",
    "        f.close()\n",
    "\n",
    "    train_x = normalize(train_x)\n",
    "    \n",
    "    # Convert train_y value into a hot vector of 10 * 1\n",
    "    # Make the probability of the true label 1\n",
    "    train_y = make_hot(train_y)\n",
    "        \n",
    "    return train_x,train_y"
   ]
  },
  {
   "cell_type": "code",
   "execution_count": 9,
   "metadata": {
    "collapsed": true
   },
   "outputs": [],
   "source": [
    "def getTest(test_min, test_max):\n",
    "    test_x = []\n",
    "    test_y = []\n",
    "    f = open('train.csv', 'rt')\n",
    "    if_first = True \n",
    "    index = 0\n",
    "\n",
    "    try:\n",
    "        reader = csv.reader(f)\n",
    "        for row in reader:\n",
    "            index = index + 1\n",
    "            if index > test_min and index < test_max:\n",
    "                # Get rid of the label row \n",
    "                if if_first == True:\n",
    "                    if_first = False\n",
    "                    continue\n",
    "                test_y.append(row[0])\n",
    "                test_x.append(map(float, row[1:len(row)]))\n",
    "    finally:\n",
    "        f.close()\n",
    "        \n",
    "    test_x = normalize(test_x)\n",
    "    test_y = make_hot(test_y)\n",
    "    \n",
    "    return test_x, test_y"
   ]
  }
 ],
 "metadata": {
  "kernelspec": {
   "display_name": "Python 2",
   "language": "python",
   "name": "python2"
  },
  "language_info": {
   "codemirror_mode": {
    "name": "ipython",
    "version": 2
   },
   "file_extension": ".py",
   "mimetype": "text/x-python",
   "name": "python",
   "nbconvert_exporter": "python",
   "pygments_lexer": "ipython2",
   "version": "2.7.9"
  }
 },
 "nbformat": 4,
 "nbformat_minor": 0
}
