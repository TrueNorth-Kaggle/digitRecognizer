{
 "cells": [
  {
   "cell_type": "code",
   "execution_count": 9,
   "metadata": {
    "collapsed": true
   },
   "outputs": [],
   "source": [
    "import tensorflow as tf\n",
    "import numpy as np\n"
   ]
  },
  {
   "cell_type": "code",
   "execution_count": 15,
   "metadata": {
    "collapsed": false
   },
   "outputs": [],
   "source": [
    "# Change working path to read dataset\n",
    "import os\n",
    "os.chdir(\"../dataset/\")"
   ]
  },
  {
   "cell_type": "code",
   "execution_count": 50,
   "metadata": {
    "collapsed": false
   },
   "outputs": [],
   "source": [
    "import csv\n",
    "import sys\n",
    "\n",
    "train_num = 10000\n",
    "\n",
    "train_x = []\n",
    "train_y = []\n",
    "\n",
    "f = open('train.csv', 'rt')\n",
    "if_first = True \n",
    "index = 0\n",
    "try:\n",
    "    reader = csv.reader(f)\n",
    "    for row in reader:\n",
    "        if index > train_num:\n",
    "            break\n",
    "        index = index + 1\n",
    "        # Get rid of the label row \n",
    "        if if_first == True:\n",
    "            if_first = False\n",
    "            continue\n",
    "        train_y.append(row[0])\n",
    "        train_x.append(row[1:len(row)])\n",
    "finally:\n",
    "    f.close()"
   ]
  },
  {
   "cell_type": "code",
   "execution_count": 94,
   "metadata": {
    "collapsed": false
   },
   "outputs": [],
   "source": [
    "# Convert train_y value into a hot vector of 10 * 1\n",
    "# Make the probability of the true label 1\n",
    "for i in range(len(train_y)):\n",
    "    temp = [0] * 10\n",
    "    temp[int(train_y[i])] = 1\n",
    "    train_y[i] = temp"
   ]
  },
  {
   "cell_type": "code",
   "execution_count": 122,
   "metadata": {
    "collapsed": false
   },
   "outputs": [],
   "source": [
    "# Get testing set\n",
    "\n",
    "train_min = 10000\n",
    "train_max = 15000\n",
    "\n",
    "test_x = []\n",
    "test_y = []\n",
    "\n",
    "f = open('train.csv', 'rt')\n",
    "if_first = True \n",
    "index = 0\n",
    "\n",
    "try:\n",
    "    reader = csv.reader(f)\n",
    "    for row in reader:\n",
    "        index = index + 1\n",
    "        if index > train_min and index < train_max:\n",
    "            # Get rid of the label row \n",
    "            if if_first == True:\n",
    "                if_first = False\n",
    "                continue\n",
    "            test_y.append(row[0])\n",
    "            test_x.append(row[1:len(row)])\n",
    "finally:\n",
    "    f.close()\n",
    "    \n",
    "# Convert train_y value into a hot vector of 10 * 1\n",
    "# Make the probability of the true label 1\n",
    "for i in range(len(test_y)):\n",
    "    temp = [0] * 10\n",
    "    temp[int(test_y[i])] = 1\n",
    "    test_y[i] = temp"
   ]
  },
  {
   "cell_type": "code",
   "execution_count": 124,
   "metadata": {
    "collapsed": false
   },
   "outputs": [],
   "source": [
    "# A softmax regression containing only one layer of \n",
    "# Network. The regression is in form of y = softmax(Wx + b)\n",
    "# W is the weigt and b is the bias \n",
    "\n",
    "# First we need a placeholder for each input value x\n",
    "x = tf.placeholder(tf.float32, [None, 784])\n",
    "\n",
    "# Then we decalre W and b as Variables for model parameters\n",
    "W = tf.Variable(tf.zeros([784, 10]))\n",
    "b = tf.Variable(tf.zeros([10]))"
   ]
  },
  {
   "cell_type": "code",
   "execution_count": 125,
   "metadata": {
    "collapsed": false
   },
   "outputs": [],
   "source": [
    "# Implementation of the model \n",
    "y = tf.nn.softmax(tf.matmul(x, W) + b)"
   ]
  },
  {
   "cell_type": "code",
   "execution_count": 126,
   "metadata": {
    "collapsed": true
   },
   "outputs": [],
   "source": [
    "# Training step: tell TensorFlow what makes up a good model\n",
    "# We use corss-entropy as the cost function \n",
    "y_ = tf.placeholder(tf.float32, [None, 10])\n",
    "cross_entropy = -tf.reduce_sum(y_ * tf.log(y))\n",
    "\n",
    "# Backgpropagation with selected optimizer algorithm\n",
    "# There are a variety of optimizers to choose from\n",
    "train_step = tf.train.GradientDescentOptimizer(0.01).minimize(cross_entropy)"
   ]
  },
  {
   "cell_type": "code",
   "execution_count": 127,
   "metadata": {
    "collapsed": false
   },
   "outputs": [],
   "source": [
    "# Launch the model \n",
    "init = tf.initialize_all_variables()\n",
    "\n",
    "sess = tf.Session()\n",
    "sess.run(init)"
   ]
  },
  {
   "cell_type": "raw",
   "metadata": {
    "collapsed": true
   },
   "source": [
    "# Use stochastic training \n",
    "for i in range(100):\n",
    "    batch_xs, batch_ys = train_x[i*(100):(i+1)*100-1], train_y[i*(100):(i+1)*100-1]\n",
    "    sess.run(train_step, feed_dict={x: batch_xs, y_: batch_ys})"
   ]
  },
  {
   "cell_type": "code",
   "execution_count": 128,
   "metadata": {
    "collapsed": false
   },
   "outputs": [],
   "source": [
    "correct_prediction = tf.equal(tf.argmax(y, 1), tf.arg_max(y_, 1))\n",
    "accuracy = tf.reduce_mean(tf.cast(correct_prediction, \"float\"))"
   ]
  },
  {
   "cell_type": "code",
   "execution_count": 129,
   "metadata": {
    "collapsed": false
   },
   "outputs": [
    {
     "name": "stdout",
     "output_type": "stream",
     "text": [
      "0.0916367\n"
     ]
    }
   ],
   "source": [
    "print(sess.run(accuracy, feed_dict={x: test_x, y_: test_y}))"
   ]
  },
  {
   "cell_type": "code",
   "execution_count": null,
   "metadata": {
    "collapsed": true
   },
   "outputs": [],
   "source": []
  }
 ],
 "metadata": {
  "kernelspec": {
   "display_name": "Python 2",
   "language": "python",
   "name": "python2"
  },
  "language_info": {
   "codemirror_mode": {
    "name": "ipython",
    "version": 2
   },
   "file_extension": ".py",
   "mimetype": "text/x-python",
   "name": "python",
   "nbconvert_exporter": "python",
   "pygments_lexer": "ipython2",
   "version": "2.7.9"
  }
 },
 "nbformat": 4,
 "nbformat_minor": 0
}
