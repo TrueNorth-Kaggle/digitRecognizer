{
 "cells": [
  {
   "cell_type": "code",
   "execution_count": 1,
   "metadata": {
    "collapsed": true
   },
   "outputs": [],
   "source": [
    "import numpy as np\n",
    "import pandas as pd\n",
    "import tensorflow as tf"
   ]
  },
  {
   "cell_type": "code",
   "execution_count": 5,
   "metadata": {
    "collapsed": true
   },
   "outputs": [],
   "source": [
    "# read training data using pandas"
   ]
  },
  {
   "cell_type": "code",
   "execution_count": 7,
   "metadata": {
    "collapsed": false
   },
   "outputs": [],
   "source": [
    "train_data = pd.read_csv(\"./train.csv\")"
   ]
  },
  {
   "cell_type": "code",
   "execution_count": 8,
   "metadata": {
    "collapsed": true
   },
   "outputs": [],
   "source": [
    "test_data = pd.read_csv(\"./test.csv\")"
   ]
  },
  {
   "cell_type": "code",
   "execution_count": 9,
   "metadata": {
    "collapsed": false
   },
   "outputs": [
    {
     "name": "stdout",
     "output_type": "stream",
     "text": [
      "train_data(42000,785)\n",
      "   label  pixel0  pixel1  pixel2  pixel3  pixel4  pixel5  pixel6  pixel7  \\\n",
      "0      1       0       0       0       0       0       0       0       0   \n",
      "1      0       0       0       0       0       0       0       0       0   \n",
      "2      1       0       0       0       0       0       0       0       0   \n",
      "3      4       0       0       0       0       0       0       0       0   \n",
      "4      0       0       0       0       0       0       0       0       0   \n",
      "\n",
      "   pixel8  pixel9  pixel10  pixel11  pixel12  pixel13  pixel14  pixel15  \\\n",
      "0       0       0        0        0        0        0        0        0   \n",
      "1       0       0        0        0        0        0        0        0   \n",
      "2       0       0        0        0        0        0        0        0   \n",
      "3       0       0        0        0        0        0        0        0   \n",
      "4       0       0        0        0        0        0        0        0   \n",
      "\n",
      "   pixel16  pixel17  pixel18      \n",
      "0        0        0        0 ...  \n",
      "1        0        0        0 ...  \n",
      "2        0        0        0 ...  \n",
      "3        0        0        0 ...  \n",
      "4        0        0        0 ...  \n",
      "\n",
      "[5 rows x 785 columns]\n"
     ]
    }
   ],
   "source": [
    "print(\"train_data({0[0]},{0[1]})\".format(train_data.shape))\n",
    "print (train_data.head())"
   ]
  },
  {
   "cell_type": "code",
   "execution_count": 10,
   "metadata": {
    "collapsed": true
   },
   "outputs": [],
   "source": [
    "# Data Processing"
   ]
  },
  {
   "cell_type": "code",
   "execution_count": 39,
   "metadata": {
    "collapsed": false
   },
   "outputs": [
    {
     "name": "stdout",
     "output_type": "stream",
     "text": [
      "train_feature(42000,784)\n",
      "train_label(42000)\n",
      "[1 0 1 ..., 7 6 9]\n"
     ]
    }
   ],
   "source": [
    "train_feature = train_data.iloc[:,1:].values  # split the training data to features and labels\n",
    "train_label = train_data[[0]].values.ravel()  #numpy.ravel: return a contiguous flattened array.\n",
    "print(\"train_feature({0[0]},{0[1]})\".format(train_feature.shape))\n",
    "print(\"train_label({0})\".format(len(train_label)))\n",
    "print(train_label)"
   ]
  },
  {
   "cell_type": "code",
   "execution_count": 40,
   "metadata": {
    "collapsed": false
   },
   "outputs": [
    {
     "name": "stdout",
     "output_type": "stream",
     "text": [
      "test_feature(28000,784)\n"
     ]
    }
   ],
   "source": [
    "test_feature = test_data.values\n",
    "print(\"test_feature({0[0]},{0[1]})\".format(test_feature.shape))"
   ]
  },
  {
   "cell_type": "code",
   "execution_count": 37,
   "metadata": {
    "collapsed": true
   },
   "outputs": [],
   "source": [
    "# Here we can see both train_feature and test_feature are tensors with a shape of [xxx, 784], however, \n",
    "# the train_label is not a tensor. In order to perform the training, we need to convert it to a tensor, \n",
    "# which need to convert class labels from scalars to one-hot vectors like:\n",
    "# 0 => [1 0 0 0 0 0 0 0 0 0]\n",
    "# 1 => [0 1 0 0 0 0 0 0 0 0]\n",
    "# .......\n",
    "# We can use the code from tensorflow website"
   ]
  },
  {
   "cell_type": "code",
   "execution_count": 38,
   "metadata": {
    "collapsed": false
   },
   "outputs": [
    {
     "name": "stdout",
     "output_type": "stream",
     "text": [
      "train_label_tensor(42000,10)\n"
     ]
    }
   ],
   "source": [
    "def dense_to_one_hot(labels_dense, num_classes=10):\n",
    "    num_labels = labels_dense.shape[0]\n",
    "    index_offset = np.arange(num_labels) * num_classes\n",
    "    labels_one_hot = np.zeros((num_labels, num_classes))\n",
    "    labels_one_hot.flat[index_offset + labels_dense.ravel()] = 1\n",
    "    return labels_one_hot\n",
    "\n",
    "train_label_tensor = dense_to_one_hot(train_label)\n",
    "train_label_tensor = train_label_tensor.astype(np.uint8)\n",
    "print(\"train_label_tensor({0[0]},{0[1]})\".format(train_label_tensor.shape))\n"
   ]
  },
  {
   "cell_type": "code",
   "execution_count": 41,
   "metadata": {
    "collapsed": true
   },
   "outputs": [],
   "source": [
    "# Now both features and labels are good to go"
   ]
  },
  {
   "cell_type": "code",
   "execution_count": 42,
   "metadata": {
    "collapsed": true
   },
   "outputs": [],
   "source": [
    "# Before we proceed to the modeling, let us do a little visulazation work to see the image"
   ]
  },
  {
   "cell_type": "code",
   "execution_count": 43,
   "metadata": {
    "collapsed": true
   },
   "outputs": [],
   "source": [
    "# There are totally 42000 training examples, each with 1 label and 784 features. Each feature actually is 28 x 28 \n",
    "# pixel picture. We can reshape the data."
   ]
  },
  {
   "cell_type": "code",
   "execution_count": 44,
   "metadata": {
    "collapsed": false
   },
   "outputs": [],
   "source": [
    "train_label_reshape = train_label.astype(np.uint8) # uint8 is unsigned integer (0 to 255)\n",
    "train_feature_reshape = np.array(train_feature).reshape((-1, 1, 28, 28)).astype(np.uint8) # the -1 in reshape (-1,1) means a unspecified value for rows , which here should 42000 \n",
    "test_feature_reshape = np.array(test_feature).reshape((-1, 1, 28, 28)).astype(np.uint8)"
   ]
  },
  {
   "cell_type": "code",
   "execution_count": 45,
   "metadata": {
    "collapsed": true
   },
   "outputs": [],
   "source": [
    "# We can use the matplotlib to plot the digits"
   ]
  },
  {
   "cell_type": "code",
   "execution_count": 46,
   "metadata": {
    "collapsed": false
   },
   "outputs": [
    {
     "data": {
      "text/plain": [
       "<matplotlib.image.AxesImage at 0x7f8ab4717dd0>"
      ]
     },
     "execution_count": 46,
     "metadata": {},
     "output_type": "execute_result"
    },
    {
     "data": {
      "image/png": "[encoded data removed]",
      "text/plain": [
       "<matplotlib.figure.Figure at 0x7f8ab45db310>"
      ]
     },
     "metadata": {},
     "output_type": "display_data"
    }
   ],
   "source": [
    "%matplotlib inline\n",
    "import matplotlib.pyplot as plt\n",
    "import matplotlib.cm as cm\n",
    "\n",
    "plt.imshow(train_feature_reshape[0][0], cmap=cm.binary)"
   ]
  },
  {
   "cell_type": "code",
   "execution_count": 47,
   "metadata": {
    "collapsed": true
   },
   "outputs": [],
   "source": [
    "# Now, let us split the train_data into two parts, one for training (80%, 33600), one for validation (20%, 8400)"
   ]
  },
  {
   "cell_type": "code",
   "execution_count": 73,
   "metadata": {
    "collapsed": true
   },
   "outputs": [],
   "source": [
    "# One important step is that we need to normalize the image features \n",
    "# # convert from [0, 255] => [0.0, 1.0]"
   ]
  },
  {
   "cell_type": "code",
   "execution_count": 74,
   "metadata": {
    "collapsed": true
   },
   "outputs": [],
   "source": [
    "train_feature = np.multiply(train_feature, 1.0/255.0)\n",
    "test_feature = np.multiply(train_feature, 1.0/255.0)"
   ]
  },
  {
   "cell_type": "code",
   "execution_count": 75,
   "metadata": {
    "collapsed": false
   },
   "outputs": [
    {
     "name": "stdout",
     "output_type": "stream",
     "text": [
      "training_feature(33600,784)\n",
      "training_label(33600,10)\n",
      "validation_feature(8400,784)\n",
      "validation_label(8400,10)\n"
     ]
    }
   ],
   "source": [
    "training_feature = train_feature[:33600]\n",
    "training_label = train_label_tensor[:33600]\n",
    "\n",
    "validation_feature = train_feature[33600:]\n",
    "validation_label = train_label_tensor[33600:]\n",
    "\n",
    "print(\"training_feature({0[0]},{0[1]})\".format(training_feature.shape))\n",
    "print(\"training_label({0[0]},{0[1]})\".format(training_label.shape))\n",
    "print(\"validation_feature({0[0]},{0[1]})\".format(validation_feature.shape))\n",
    "print(\"validation_label({0[0]},{0[1]})\".format(validation_label.shape))"
   ]
  },
  {
   "cell_type": "code",
   "execution_count": 76,
   "metadata": {
    "collapsed": true
   },
   "outputs": [],
   "source": [
    "# Next we can run the tensorflow as in the tensorflow tutorial"
   ]
  },
  {
   "cell_type": "code",
   "execution_count": 77,
   "metadata": {
    "collapsed": true
   },
   "outputs": [],
   "source": [
    "# First we use the softmax model, which is:\n",
    "# y=softmax(Wx+b)"
   ]
  },
  {
   "cell_type": "code",
   "execution_count": 78,
   "metadata": {
    "collapsed": true
   },
   "outputs": [],
   "source": [
    "import tensorflow as tf\n",
    "\n",
    "x = tf.placeholder(tf.float32, [None, 784])\n",
    "W = tf.Variable(tf.zeros([784, 10]))\n",
    "b = tf.Variable(tf.zeros([10]))"
   ]
  },
  {
   "cell_type": "code",
   "execution_count": 79,
   "metadata": {
    "collapsed": true
   },
   "outputs": [],
   "source": [
    "# We can now implement our model"
   ]
  },
  {
   "cell_type": "code",
   "execution_count": 80,
   "metadata": {
    "collapsed": true
   },
   "outputs": [],
   "source": [
    "y = tf.nn.softmax(tf.matmul(x, W) + b)"
   ]
  },
  {
   "cell_type": "code",
   "execution_count": 81,
   "metadata": {
    "collapsed": true
   },
   "outputs": [],
   "source": [
    "# Training step, implement the cross-entropy as cost function"
   ]
  },
  {
   "cell_type": "code",
   "execution_count": 82,
   "metadata": {
    "collapsed": true
   },
   "outputs": [],
   "source": [
    "y_ = tf.placeholder(tf.float32, [None, 10])\n",
    "cross_entropy = -tf.reduce_sum(y_*tf.log(y))\n",
    "\n",
    "# apply optimization algorithm to modify the variables and reduce the cost\n",
    "train_step = tf.train.GradientDescentOptimizer(0.01).minimize(cross_entropy)\n",
    "init = tf.initialize_all_variables() # add an operation to initialize the variables we created"
   ]
  },
  {
   "cell_type": "code",
   "execution_count": 83,
   "metadata": {
    "collapsed": true
   },
   "outputs": [],
   "source": [
    "# launch the model in a Session, and run the operation that initializes the variables\n",
    "sess = tf.Session()\n",
    "sess.run(init) "
   ]
  },
  {
   "cell_type": "code",
   "execution_count": 84,
   "metadata": {
    "collapsed": true
   },
   "outputs": [],
   "source": [
    "# In the follow training, we will use a function next_batch(self, batch_size, fake_data=False), which is defined\n",
    "# in the tutorail code, I will just copy it (some part I still don't quite understand)"
   ]
  },
  {
   "cell_type": "code",
   "execution_count": 85,
   "metadata": {
    "collapsed": true
   },
   "outputs": [],
   "source": [
    "epochs_completed = 0\n",
    "index_in_epoch = 0\n",
    "num_examples = training_feature.shape[0]\n",
    "\n",
    "# serve data by batches\n",
    "def next_batch(batch_size):\n",
    "\n",
    "    global training_feature\n",
    "    global training_label\n",
    "    global index_in_epoch\n",
    "    global epochs_completed\n",
    "\n",
    "    start = index_in_epoch\n",
    "    index_in_epoch += batch_size\n",
    "    if index_in_epoch > num_examples:\n",
    "        # finished epoch\n",
    "        epochs_completed += 1\n",
    "        # shuffle the data\n",
    "        perm = np.arange(num_examples)\n",
    "        np.random.shuffle(perm)\n",
    "        training_feature = training_feature[perm]\n",
    "        training_label = training_label[perm]\n",
    "        # start next epoch\n",
    "        start = 0\n",
    "        index_in_epoch = batch_size\n",
    "        assert batch_size <= num_examples\n",
    "    end = index_in_epoch\n",
    "    return training_feature[start:end], training_label[start:end]"
   ]
  },
  {
   "cell_type": "code",
   "execution_count": 86,
   "metadata": {
    "collapsed": true
   },
   "outputs": [],
   "source": [
    "# Then train for 1000 times as in the tutorial\n",
    "for i in range(1000):\n",
    "  batch_xs, batch_ys = next_batch(100)\n",
    "  sess.run(train_step, feed_dict={x: batch_xs, y_: batch_ys})"
   ]
  },
  {
   "cell_type": "code",
   "execution_count": 87,
   "metadata": {
    "collapsed": false
   },
   "outputs": [],
   "source": [
    "# Evaluating Our Model\n",
    "correct_prediction = tf.equal(tf.argmax(y,1), tf.argmax(y_,1))\n",
    "accuracy = tf.reduce_mean(tf.cast(correct_prediction, \"float\"))"
   ]
  },
  {
   "cell_type": "code",
   "execution_count": 88,
   "metadata": {
    "collapsed": false
   },
   "outputs": [
    {
     "name": "stdout",
     "output_type": "stream",
     "text": [
      "0.92253\n"
     ]
    }
   ],
   "source": [
    "# Training accuracy\n",
    "print(sess.run(accuracy, feed_dict={x: training_feature, y_: training_label}))"
   ]
  },
  {
   "cell_type": "code",
   "execution_count": 89,
   "metadata": {
    "collapsed": false
   },
   "outputs": [
    {
     "name": "stdout",
     "output_type": "stream",
     "text": [
      "0.917738\n"
     ]
    }
   ],
   "source": [
    "# Validation accuracy\n",
    "print(sess.run(accuracy, feed_dict={x: validation_feature, y_: validation_label}))"
   ]
  },
  {
   "cell_type": "code",
   "execution_count": null,
   "metadata": {
    "collapsed": true
   },
   "outputs": [],
   "source": []
  }
 ],
 "metadata": {
  "kernelspec": {
   "display_name": "Python 2",
   "language": "python",
   "name": "python2"
  },
  "language_info": {
   "codemirror_mode": {
    "name": "ipython",
    "version": 2
   },
   "file_extension": ".py",
   "mimetype": "text/x-python",
   "name": "python",
   "nbconvert_exporter": "python",
   "pygments_lexer": "ipython2",
   "version": "2.7.6"
  }
 },
 "nbformat": 4,
 "nbformat_minor": 0
}
